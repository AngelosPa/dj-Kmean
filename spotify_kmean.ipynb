{
 "cells": [
  {
   "cell_type": "code",
   "execution_count": 131,
   "metadata": {},
   "outputs": [],
   "source": [
    "# IMPORT LIBRARIES \n",
    "import pandas as pd\n",
    "import matplotlib.pyplot as plt\n",
    "import seaborn as sns\n",
    "from sklearn.cluster import KMeans\n",
    "from sklearn.metrics import silhouette_score\n",
    "from sklearn.preprocessing import MinMaxScaler"
   ]
  },
  {
   "cell_type": "code",
   "execution_count": 253,
   "metadata": {},
   "outputs": [],
   "source": [
    "from dotenv import load_dotenv\n",
    "load_dotenv()\n",
    "UR_API_KEY = os.getenv('DB_ID')\n",
    "UR_API_SECRET = os.getenv('DB_SECRET')\n",
    "USERNAME = os.getenv('DB_USER')\n"
   ]
  },
  {
   "cell_type": "code",
   "execution_count": 254,
   "metadata": {},
   "outputs": [],
   "source": [
    "# log it to spotify\n",
    "import spotipy\n",
    "from spotipy.oauth2 import SpotifyClientCredentials\n",
    "import spotipy.oauth2 as oauth2\n",
    "from spotipy.oauth2 import SpotifyOAuth\n",
    "\n",
    "token = oauth2.SpotifyClientCredentials(\n",
    "    client_id=UR_API_KEY,\n",
    "    client_secret=UR_API_SECRET)\n",
    "sp = spotipy.Spotify(client_credentials_manager=token)\n"
   ]
  },
  {
   "cell_type": "code",
   "execution_count": 255,
   "metadata": {},
   "outputs": [],
   "source": [
    "# user authorization on spotipy in order to push our new playlists\n",
    "\n",
    "import spotipy.util as util\n",
    "from spotipy.oauth2 import SpotifyClientCredentials\n",
    "import spotipy\n",
    "import spotipy.util as util\n",
    "\n",
    "cid = UR_API_KEY  # Client ID;\n",
    "secret = UR_API_SECRET  # Client Secret;\n",
    "username =USERNAME   # got from Spotify->account settings\n",
    "#for avaliable scopes see https://developer.spotify.com/web-api/using-scopes/\n",
    "scope = 'user-library-read playlist-modify-public playlist-read-private'\n",
    "redirect_uri = 'http://localhost:3000/callback'  # works on 3000,8888 as well\n",
    "client_credentials_manager = SpotifyClientCredentials(\n",
    "    client_id=cid, client_secret=secret)\n",
    "sp = spotipy.Spotify(client_credentials_manager=client_credentials_manager)\n",
    "token = util.prompt_for_user_token(username, scope, cid, secret, redirect_uri)\n",
    "if token:\n",
    " sp = spotipy.Spotify(auth=token)\n",
    "else:\n",
    " print(\"Can't get token for\", username)\n",
    "# results = sp.current_user_saved_tracks()\n"
   ]
  },
  {
   "cell_type": "code",
   "execution_count": null,
   "metadata": {},
   "outputs": [],
   "source": [
    "# get a list with music genres\n",
    "genres = sp.recommendation_genre_seeds()\n",
    "atmosferika = [ \"your genres here\"]\n",
    "# get every song from an artist\n",
    "def get_artists_from_genre(genrelist):\n",
    "    artists = []\n",
    "\n",
    "    for genre in genrelist:\n",
    "        results = sp.search(q='genre:' + genre, type='artist', limit=50)\n",
    "        for i, t in enumerate(results['artists']['items']):\n",
    "            artists.append(t['name'])\n",
    "\n",
    "    return artists\n",
    "\n",
    "def get_songs_from_genre(genrelist):\n",
    "    artistlist = get_artists_from_genre(genrelist)\n",
    "    songs = []\n",
    "    songs_names = []\n",
    "    songs_artists = []\n",
    "    Audio_Features = []\n",
    "    for artist in artistlist:\n",
    "        results = sp.search(q='artist:' + artist, type='track', limit=20)\n",
    "        for i, t in enumerate(results['tracks']['items']):\n",
    "            songs.append(t['id'])\n",
    "            songs_names.append(t['name'])\n",
    "            songs_artists.append(t['artists'][0]['name'])\n",
    "            Audio_Features.append(sp.audio_features(t['id'])[0])\n",
    "\n",
    "    return {'songs': songs, 'songs_names': songs_names, 'songs_artists': songs_artists, 'Audio_Features': Audio_Features}\n",
    "\n",
    "\n",
    "songslist_atmosferika = get_songs_from_genre(atmosferika)\n",
    "\n",
    "songslist_atmosferika\n"
   ]
  },
  {
   "cell_type": "code",
   "execution_count": 168,
   "metadata": {},
   "outputs": [],
   "source": [
    "songslist_atmosferika2 = songslist_atmosferika.copy()\n"
   ]
  },
  {
   "cell_type": "code",
   "execution_count": 186,
   "metadata": {},
   "outputs": [
    {
     "data": {
      "text/plain": [
       "'Itoko Toma'"
      ]
     },
     "execution_count": 186,
     "metadata": {},
     "output_type": "execute_result"
    }
   ],
   "source": [
    "#cleaning the missing values\n",
    "songslist_atmosferika2['Audio_Features'].pop(1947)\n",
    "songslist_atmosferika2['songs'].pop(1947)\n",
    "songslist_atmosferika2['songs_names'].pop(1947)\n",
    "songslist_atmosferika2['songs_artists'].pop(1947)\n",
    "\"0SkmMypdFPCHxb14kQ8Uqt\"\n"
   ]
  },
  {
   "cell_type": "code",
   "execution_count": 187,
   "metadata": {},
   "outputs": [],
   "source": [
    "# convert all to dataframe\n",
    "# AttributeError: 'NoneType' object has no attribute 'keys'\n",
    "Audio_Features_df = pd.DataFrame(songslist_atmosferika2[\"Audio_Features\"]\n",
    "             )\n",
    "\n",
    "songs_df = pd.DataFrame(\n",
    "    {'id': songslist_atmosferika2[\"songs\"], 'song_name': songslist_atmosferika2[\"songs_names\"], 'artist': songslist_atmosferika2[\"songs_artists\"]})\n",
    "# merge the two dataframes\n",
    "songslist_atmosferika2 = pd.merge(songs_df, Audio_Features_df, on='id')\n",
    "\n",
    "\n"
   ]
  },
  {
   "cell_type": "code",
   "execution_count": null,
   "metadata": {},
   "outputs": [],
   "source": [
    "    # clean the data\n",
    "songslist_atmosferika2 = songslist_atmosferika2.drop(\n",
    "    ['analysis_url', 'track_href', 'type', 'uri', 'id_y', 'duration_ms', 'time_signature', ], axis=1, errors='ignore')\n",
    "songslist_atmosferika2.rename(columns={'id_x': 'id'}, inplace=True)\n",
    "songslist_atmosferika2[\"fullname\"] = songslist_atmosferika2[\"song_name\"] + \\\n",
    "    \" - \" + songslist_atmosferika2[\"artist\"]\n",
    "songslist_atmosferika2.drop_duplicates(subset=\"fullname\", keep=False, inplace=True)\n",
    "songslist_atmosferika2.drop(['song_name', 'artist'], axis=1, inplace=True)\n",
    "songslist_atmosferika2.set_index('id', inplace=True)\n",
    "songslist_atmosferika2.info()\n"
   ]
  },
  {
   "cell_type": "code",
   "execution_count": 189,
   "metadata": {},
   "outputs": [],
   "source": [
    "# save to csv\n",
    "songslist_atmosferika2.to_csv('songs_df_dunata.csv')\n"
   ]
  },
  {
   "cell_type": "code",
   "execution_count": 228,
   "metadata": {},
   "outputs": [],
   "source": [
    "# SCALING DATA\n",
    "songslist_atmosferika2 = songslist_atmosferika2.drop(['fullname'], axis=1, errors='ignore')\n",
    "scaler = MinMaxScaler()\n",
    "songs_scaled = scaler.fit_transform(songslist_atmosferika2)\n",
    "songs_scaled = pd.DataFrame(\n",
    "    songs_scaled, columns=songslist_atmosferika2.columns, index=songslist_atmosferika2.index)\n",
    "\n"
   ]
  },
  {
   "cell_type": "code",
   "execution_count": 229,
   "metadata": {},
   "outputs": [],
   "source": [
    "# remove low energy songs\n",
    "songs_scaled = songs_scaled[songs_scaled['energy'] > 0.2]\n",
    "# remove low danceability songs\n",
    "songs_scaled = songs_scaled[songs_scaled['danceability'] > 0.3]\n"
   ]
  },
  {
   "cell_type": "code",
   "execution_count": null,
   "metadata": {},
   "outputs": [],
   "source": [
    "# validation through silhouette score\n",
    "from sklearn.metrics import silhouette_score\n",
    "# run it for 6 to 30 clusters and plot it\n",
    "silhouette_scores = []\n",
    "#apply the k mean algorithm for any possible number of k to choose the best one\n",
    "for i in range(10, 18):\n",
    "    km = KMeans(n_clusters=i, random_state=0)\n",
    "    km.fit(songs_scaled)\n",
    "    silhouette_scores.append(silhouette_score(songs_scaled, km.labels_))\n",
    "\n",
    "plt.plot(range(10, 18), silhouette_scores)\n",
    "plt.xlabel(\"Number of clusters\")\n",
    "plt.ylabel(\"Silhouette score\")\n"
   ]
  },
  {
   "cell_type": "code",
   "execution_count": null,
   "metadata": {},
   "outputs": [],
   "source": [
    "# RUN THE KMEANS ALGORITHM MULTIPLE TIMES IN ORDER TO GET THE BEST inertia_\n",
    "from sklearn.cluster import KMeans\n",
    "# for i in range(30):\n",
    "#     km = KMeans(n_clusters=12, random_state=i)\n",
    "#     km.fit(songs_scaled)\n",
    "#     print(i, km.inertia_)\n",
    "# we go for random_state=0\n",
    "km = KMeans(n_clusters=25, random_state=0\n",
    "            )\n",
    "km.fit(songs_scaled)\n",
    "songs_scaled[\"cluster\"] = km.labels_\n",
    "songs_scaled[\"cluster\"].value_counts()\n",
    "songs_scaled[\"cluster\"].value_counts().plot(kind=\"bar\")"
   ]
  },
  {
   "cell_type": "code",
   "execution_count": null,
   "metadata": {},
   "outputs": [],
   "source": [
    "# GaussianMixture version\n",
    "\n",
    "# from sklearn.mixture import GaussianMixture\n",
    "# from numpy import unique\n",
    "# from numpy import where\n",
    "# from matplotlib import pyplot\n",
    "\n",
    "# # define the model\n",
    "# gaussian_model = GaussianMixture(n_components=12)\n",
    "\n",
    "# # train the model\n",
    "# gaussian_model.fit(songs_scaled)\n",
    "\n",
    "# # assign each data point to a cluster\n",
    "# gaussian_result = gaussian_model.predict(songs_scaled)\n",
    "\n",
    "# # get all of the unique clusters\n",
    "# gaussian_clusters = unique(gaussian_result)\n",
    "# for gaussian_cluster in gaussian_clusters:\n",
    "#     # get data points that fall in this cluster\n",
    "#     index = where(gaussian_result == gaussian_clusters)\n",
    "#     # make the plot\n",
    "\n",
    "# songs_scaled[\"cluster\"] = gaussian_result\n",
    "# # show the Gaussian Mixture plot\n",
    "# songs_scaled[\"cluster\"].value_counts()\n",
    "# songs_scaled[\"cluster\"].value_counts().plot(kind=\"bar\")\n"
   ]
  },
  {
   "cell_type": "code",
   "execution_count": 259,
   "metadata": {},
   "outputs": [],
   "source": [
    "# choosing the best clusters\n",
    "# for i in range(25):\n",
    "#     print(\"d \"+str(i) +\"    \"+str(songs_scaled.loc[songs_scaled[\"cluster\"]\n",
    "#           == i].energy.mean()))\n",
    "songs_scaled.loc[songs_scaled[\"cluster\"]\n",
    "                 == 17].reset_index().to_csv('cluster_energy.csv')\n"
   ]
  },
  {
   "cell_type": "code",
   "execution_count": null,
   "metadata": {},
   "outputs": [],
   "source": [
    "songs_raw = pd.read_csv('cluster_energy.csv')\n",
    "songs_raw\n",
    "# create a playlist for the songs raw \n",
    "sp.user_playlist_create(USERNAME, \"cluster_energy\",\n",
    "                        public=True, description=None)\n",
    "playlist_id = sp.user_playlists(USERNAME)['items'][0]['id']"
   ]
  },
  {
   "cell_type": "code",
   "execution_count": null,
   "metadata": {},
   "outputs": [],
   "source": [
    "ids = songs_raw['id'].tolist()\n",
    " # prevent a 400 error\n",
    "try:\n",
    "    sp.user_playlist_add_tracks(USERNAME, playlist_id, ids)\n",
    "    print(\"cluster created\")\n",
    "except:\n",
    "     print(\"error\")\n"
   ]
  },
  {
   "cell_type": "code",
   "execution_count": null,
   "metadata": {},
   "outputs": [],
   "source": [
    "# create a playlist for each cluster\n",
    "songs_raw = songs_scaled.reset_index()\n",
    "songs_raw\n",
    "for i in range(12):\n",
    "    ids = songs_raw[songs_raw[\"fullname\"].isin(cluster_dict[i])][\"id\"].tolist()\n",
    "\n",
    "   # maximun 100 songs per playlist\n",
    "    if len(ids) > 100:\n",
    "        ids = ids[:100]\n",
    "        sp.user_playlist_create(USERNAME, \"cluster_\" + str(i), public=True, description=None)\n",
    "        playlist_id = sp.user_playlists(USERNAME)[\"items\"][i][\"id\"]\n",
    "        \n",
    "    \n",
    "        # prevent a 400 error \n",
    "        try: \n",
    "            sp.user_playlist_add_tracks(USERNAME, playlist_id, ids)\n",
    "            print(\"cluster_\" + str(i) + \" created\")\n",
    "        except:\n",
    "            print(\"error\")  \n",
    "    \n",
    "#find the id through the first dataframe\n",
    "\n"
   ]
  }
 ],
 "metadata": {
  "kernelspec": {
   "display_name": "Python 3.10.4 64-bit",
   "language": "python",
   "name": "python3"
  },
  "language_info": {
   "codemirror_mode": {
    "name": "ipython",
    "version": 3
   },
   "file_extension": ".py",
   "mimetype": "text/x-python",
   "name": "python",
   "nbconvert_exporter": "python",
   "pygments_lexer": "ipython3",
   "version": "3.10.4"
  },
  "orig_nbformat": 4,
  "vscode": {
   "interpreter": {
    "hash": "e5d44d20471fed6b31c84e96a507e39677b7979bf00486c2e6552218c91082f0"
   }
  }
 },
 "nbformat": 4,
 "nbformat_minor": 2
}
